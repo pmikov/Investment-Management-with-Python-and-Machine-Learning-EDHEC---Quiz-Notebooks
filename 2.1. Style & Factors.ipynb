{
 "cells": [
  {
   "cell_type": "markdown",
   "metadata": {},
   "source": [
    "# Course 2: Advanced Portfolio Construction and Analysis With Python\n",
    "## Module 1: Style & Factors"
   ]
  },
  {
   "cell_type": "markdown",
   "metadata": {},
   "source": [
    "**Question 1**\n",
    "\n",
    "Load the 49 Value Weighted industry portfolio returns. Limit the analysis to returns of the 49 VW portfolios from 1991 onwards (1991 included, 1990 not included, 2018 included). Also load the Fama French Research Factors over the same period. Use the Mkt-RF as in the lab notebooks to compute the CAPM betas.\n",
    "\n",
    "What is the CAPM (Single Factor) Beta when evaluated over the entire period (1991-2018) of Beer?\n",
    "\n",
    "Enter the answer as a number to at least two decimal places (e.g. 0.92)"
   ]
  },
  {
   "cell_type": "code",
   "execution_count": 1,
   "metadata": {},
   "outputs": [
    {
     "data": {
      "text/html": [
       "<div>\n",
       "<style scoped>\n",
       "    .dataframe tbody tr th:only-of-type {\n",
       "        vertical-align: middle;\n",
       "    }\n",
       "\n",
       "    .dataframe tbody tr th {\n",
       "        vertical-align: top;\n",
       "    }\n",
       "\n",
       "    .dataframe thead th {\n",
       "        text-align: right;\n",
       "    }\n",
       "</style>\n",
       "<table border=\"1\" class=\"dataframe\">\n",
       "  <thead>\n",
       "    <tr style=\"text-align: right;\">\n",
       "      <th></th>\n",
       "      <th>Mkt-RF</th>\n",
       "      <th>SMB</th>\n",
       "      <th>HML</th>\n",
       "      <th>RF</th>\n",
       "    </tr>\n",
       "  </thead>\n",
       "  <tbody>\n",
       "    <tr>\n",
       "      <th>1991-01</th>\n",
       "      <td>0.0469</td>\n",
       "      <td>0.0379</td>\n",
       "      <td>-0.0184</td>\n",
       "      <td>0.0052</td>\n",
       "    </tr>\n",
       "    <tr>\n",
       "      <th>1991-02</th>\n",
       "      <td>0.0719</td>\n",
       "      <td>0.0395</td>\n",
       "      <td>-0.0054</td>\n",
       "      <td>0.0048</td>\n",
       "    </tr>\n",
       "    <tr>\n",
       "      <th>1991-03</th>\n",
       "      <td>0.0265</td>\n",
       "      <td>0.0389</td>\n",
       "      <td>-0.0123</td>\n",
       "      <td>0.0044</td>\n",
       "    </tr>\n",
       "    <tr>\n",
       "      <th>1991-04</th>\n",
       "      <td>-0.0028</td>\n",
       "      <td>0.0050</td>\n",
       "      <td>0.0142</td>\n",
       "      <td>0.0053</td>\n",
       "    </tr>\n",
       "    <tr>\n",
       "      <th>1991-05</th>\n",
       "      <td>0.0365</td>\n",
       "      <td>-0.0034</td>\n",
       "      <td>-0.0057</td>\n",
       "      <td>0.0047</td>\n",
       "    </tr>\n",
       "  </tbody>\n",
       "</table>\n",
       "</div>"
      ],
      "text/plain": [
       "         Mkt-RF     SMB     HML      RF\n",
       "1991-01  0.0469  0.0379 -0.0184  0.0052\n",
       "1991-02  0.0719  0.0395 -0.0054  0.0048\n",
       "1991-03  0.0265  0.0389 -0.0123  0.0044\n",
       "1991-04 -0.0028  0.0050  0.0142  0.0053\n",
       "1991-05  0.0365 -0.0034 -0.0057  0.0047"
      ]
     },
     "execution_count": 1,
     "metadata": {},
     "output_type": "execute_result"
    }
   ],
   "source": [
    "import pandas as pd\n",
    "\n",
    "#Load the 49 Value Weighted industry portfolio returns from 1991 onwards\n",
    "ind_returns = pd.read_csv(\"data/ind49_m_vw_rets.csv\", header=0, index_col = 0, na_values=-99.99)\n",
    "ind_returns.index = pd.to_datetime(ind_returns.index, format = '%Y%m').to_period('M')\n",
    "ind_returns = ind_returns.loc['1991':,:]/100\n",
    "ind_returns.columns = ind_returns.columns.str.strip()\n",
    "\n",
    "#load the Fama French Research Factors over the same period\n",
    "fff = pd.read_csv(\"data/F-F_Research_Data_Factors_m.csv\",header=0, index_col=0, na_values=-99.99)\n",
    "fff.index = pd.to_datetime(fff.index, format=\"%Y%m\").to_period('M')\n",
    "fff = fff.loc['1991':, :]/100\n",
    "fff.head()"
   ]
  },
  {
   "cell_type": "markdown",
   "metadata": {},
   "source": [
    "Next, we need to decompose the observed portfolio return (Beer) into the portion that's due to the market and the rest that is not due to the market, using the CAPM as the explanatory model.\n",
    "\n",
    "i.e.: $$ R_{portfolio,t} - R_{f,t} = \\alpha + \\beta(R_{mkt,t} - R_{f,t}) + \\epsilon_t $$\n",
    "\n",
    "We can use the stats.api for the linear regression as follows:"
   ]
  },
  {
   "cell_type": "code",
   "execution_count": 2,
   "metadata": {},
   "outputs": [
    {
     "data": {
      "text/html": [
       "<table class=\"simpletable\">\n",
       "<caption>OLS Regression Results</caption>\n",
       "<tr>\n",
       "  <th>Dep. Variable:</th>            <td>y</td>        <th>  R-squared:         </th> <td>   0.226</td>\n",
       "</tr>\n",
       "<tr>\n",
       "  <th>Model:</th>                   <td>OLS</td>       <th>  Adj. R-squared:    </th> <td>   0.224</td>\n",
       "</tr>\n",
       "<tr>\n",
       "  <th>Method:</th>             <td>Least Squares</td>  <th>  F-statistic:       </th> <td>   97.55</td>\n",
       "</tr>\n",
       "<tr>\n",
       "  <th>Date:</th>             <td>Wed, 23 Sep 2020</td> <th>  Prob (F-statistic):</th> <td>2.37e-20</td>\n",
       "</tr>\n",
       "<tr>\n",
       "  <th>Time:</th>                 <td>22:52:40</td>     <th>  Log-Likelihood:    </th> <td>  596.94</td>\n",
       "</tr>\n",
       "<tr>\n",
       "  <th>No. Observations:</th>      <td>   336</td>      <th>  AIC:               </th> <td>  -1190.</td>\n",
       "</tr>\n",
       "<tr>\n",
       "  <th>Df Residuals:</th>          <td>   334</td>      <th>  BIC:               </th> <td>  -1182.</td>\n",
       "</tr>\n",
       "<tr>\n",
       "  <th>Df Model:</th>              <td>     1</td>      <th>                     </th>     <td> </td>   \n",
       "</tr>\n",
       "<tr>\n",
       "  <th>Covariance Type:</th>      <td>nonrobust</td>    <th>                     </th>     <td> </td>   \n",
       "</tr>\n",
       "</table>\n",
       "<table class=\"simpletable\">\n",
       "<tr>\n",
       "      <td></td>        <th>coef</th>     <th>std err</th>      <th>t</th>      <th>P>|t|</th>  <th>[0.025</th>    <th>0.975]</th>  \n",
       "</tr>\n",
       "<tr>\n",
       "  <th>Mkt-RF</th>   <td>    0.5295</td> <td>    0.054</td> <td>    9.877</td> <td> 0.000</td> <td>    0.424</td> <td>    0.635</td>\n",
       "</tr>\n",
       "<tr>\n",
       "  <th>Constant</th> <td>    0.0043</td> <td>    0.002</td> <td>    1.892</td> <td> 0.059</td> <td>   -0.000</td> <td>    0.009</td>\n",
       "</tr>\n",
       "</table>\n",
       "<table class=\"simpletable\">\n",
       "<tr>\n",
       "  <th>Omnibus:</th>       <td>20.697</td> <th>  Durbin-Watson:     </th> <td>   2.079</td>\n",
       "</tr>\n",
       "<tr>\n",
       "  <th>Prob(Omnibus):</th> <td> 0.000</td> <th>  Jarque-Bera (JB):  </th> <td>  43.130</td>\n",
       "</tr>\n",
       "<tr>\n",
       "  <th>Skew:</th>          <td>-0.314</td> <th>  Prob(JB):          </th> <td>4.31e-10</td>\n",
       "</tr>\n",
       "<tr>\n",
       "  <th>Kurtosis:</th>      <td> 4.639</td> <th>  Cond. No.          </th> <td>    23.9</td>\n",
       "</tr>\n",
       "</table><br/><br/>Warnings:<br/>[1] Standard Errors assume that the covariance matrix of the errors is correctly specified."
      ],
      "text/plain": [
       "<class 'statsmodels.iolib.summary.Summary'>\n",
       "\"\"\"\n",
       "                            OLS Regression Results                            \n",
       "==============================================================================\n",
       "Dep. Variable:                      y   R-squared:                       0.226\n",
       "Model:                            OLS   Adj. R-squared:                  0.224\n",
       "Method:                 Least Squares   F-statistic:                     97.55\n",
       "Date:                Wed, 23 Sep 2020   Prob (F-statistic):           2.37e-20\n",
       "Time:                        22:52:40   Log-Likelihood:                 596.94\n",
       "No. Observations:                 336   AIC:                            -1190.\n",
       "Df Residuals:                     334   BIC:                            -1182.\n",
       "Df Model:                           1                                         \n",
       "Covariance Type:            nonrobust                                         \n",
       "==============================================================================\n",
       "                 coef    std err          t      P>|t|      [0.025      0.975]\n",
       "------------------------------------------------------------------------------\n",
       "Mkt-RF         0.5295      0.054      9.877      0.000       0.424       0.635\n",
       "Constant       0.0043      0.002      1.892      0.059      -0.000       0.009\n",
       "==============================================================================\n",
       "Omnibus:                       20.697   Durbin-Watson:                   2.079\n",
       "Prob(Omnibus):                  0.000   Jarque-Bera (JB):               43.130\n",
       "Skew:                          -0.314   Prob(JB):                     4.31e-10\n",
       "Kurtosis:                       4.639   Cond. No.                         23.9\n",
       "==============================================================================\n",
       "\n",
       "Warnings:\n",
       "[1] Standard Errors assume that the covariance matrix of the errors is correctly specified.\n",
       "\"\"\""
      ]
     },
     "execution_count": 2,
     "metadata": {},
     "output_type": "execute_result"
    }
   ],
   "source": [
    "import statsmodels.api as sm\n",
    "import numpy as np\n",
    "\n",
    "beer_excess = ind_returns[\"Beer\"] - fff[\"RF\"]\n",
    "fff[\"Constant\"] = 1\n",
    "exp_var = fff[[\"Mkt-RF\",\"Constant\"]]\n",
    "lm = sm.OLS(beer_excess, exp_var).fit()\n",
    "lm.summary()"
   ]
  },
  {
   "cell_type": "code",
   "execution_count": 3,
   "metadata": {},
   "outputs": [
    {
     "data": {
      "text/plain": [
       "0.53"
      ]
     },
     "execution_count": 3,
     "metadata": {},
     "output_type": "execute_result"
    }
   ],
   "source": [
    "#beta\n",
    "lm.params[0].round(2)"
   ]
  },
  {
   "cell_type": "markdown",
   "metadata": {},
   "source": [
    "**Question 2**\n",
    "\n",
    "Using the same data as the previous question, what is the CAPM Beta when evaluated over the entire period (1991-2018) of Steel?\n",
    "\n",
    "Enter your answer as a number to at least 2 decimal places (e.g. 1.12)"
   ]
  },
  {
   "cell_type": "code",
   "execution_count": 4,
   "metadata": {},
   "outputs": [
    {
     "data": {
      "text/plain": [
       "1.55"
      ]
     },
     "execution_count": 4,
     "metadata": {},
     "output_type": "execute_result"
    }
   ],
   "source": [
    "steel_excess = ind_returns[\"Steel\"] - fff[\"RF\"]\n",
    "exp_var = fff[[\"Mkt-RF\",\"Constant\"]]\n",
    "lm = sm.OLS(steel_excess, exp_var).fit()\n",
    "lm.params[0].round(2)"
   ]
  },
  {
   "cell_type": "markdown",
   "metadata": {},
   "source": [
    "**Question 3**\n",
    "\n",
    "Using the same data as the previous question, what is the CAPM Beta when evaluated over the 2013-2018 (both included) period of Beer?"
   ]
  },
  {
   "cell_type": "code",
   "execution_count": 5,
   "metadata": {},
   "outputs": [
    {
     "data": {
      "text/plain": [
       "0.59"
      ]
     },
     "execution_count": 5,
     "metadata": {},
     "output_type": "execute_result"
    }
   ],
   "source": [
    "beer_excess = ind_returns.loc[\"2013\":,\"Beer\"] - fff.loc[\"2013\":,\"RF\"]\n",
    "exp_var = fff.loc[\"2013\":,[\"Mkt-RF\",\"Constant\"]]\n",
    "lm = sm.OLS(beer_excess, exp_var).fit()\n",
    "lm.params[0].round(2)"
   ]
  },
  {
   "cell_type": "markdown",
   "metadata": {},
   "source": [
    "**Question 4**\n",
    "\n",
    "Using the same data set as the previous question, what is the CAPM Beta when evaluated over the 2013-2018 (both included) period of Steel?"
   ]
  },
  {
   "cell_type": "code",
   "execution_count": 6,
   "metadata": {},
   "outputs": [
    {
     "data": {
      "text/plain": [
       "1.42"
      ]
     },
     "execution_count": 6,
     "metadata": {},
     "output_type": "execute_result"
    }
   ],
   "source": [
    "steel_excess = ind_returns.loc[\"2013\":,\"Steel\"] - fff.loc[\"2013\":,\"RF\"]\n",
    "exp_var = fff.loc[\"2013\":,[\"Mkt-RF\",\"Constant\"]]\n",
    "lm = sm.OLS(steel_excess, exp_var).fit()\n",
    "lm.params[0].round(2)"
   ]
  },
  {
   "cell_type": "markdown",
   "metadata": {},
   "source": [
    "**Question 5**\n",
    "\n",
    "Using the same data as the previous question, which of the 49 industries had the highest CAPM Beta when evaluated over the 1991-1993 (both included) period? (Use the same industry names as in the files). Enter the name as a text string, and remember to exactly match the column headers in the data file."
   ]
  },
  {
   "cell_type": "code",
   "execution_count": 7,
   "metadata": {},
   "outputs": [
    {
     "data": {
      "text/html": [
       "<div>\n",
       "<style scoped>\n",
       "    .dataframe tbody tr th:only-of-type {\n",
       "        vertical-align: middle;\n",
       "    }\n",
       "\n",
       "    .dataframe tbody tr th {\n",
       "        vertical-align: top;\n",
       "    }\n",
       "\n",
       "    .dataframe thead th {\n",
       "        text-align: right;\n",
       "    }\n",
       "</style>\n",
       "<table border=\"1\" class=\"dataframe\">\n",
       "  <thead>\n",
       "    <tr style=\"text-align: right;\">\n",
       "      <th></th>\n",
       "      <th>0</th>\n",
       "    </tr>\n",
       "  </thead>\n",
       "  <tbody>\n",
       "    <tr>\n",
       "      <th>Agric</th>\n",
       "      <td>1.03</td>\n",
       "    </tr>\n",
       "    <tr>\n",
       "      <th>Food</th>\n",
       "      <td>1.26</td>\n",
       "    </tr>\n",
       "    <tr>\n",
       "      <th>Soda</th>\n",
       "      <td>1.32</td>\n",
       "    </tr>\n",
       "    <tr>\n",
       "      <th>Beer</th>\n",
       "      <td>1.20</td>\n",
       "    </tr>\n",
       "    <tr>\n",
       "      <th>Smoke</th>\n",
       "      <td>1.32</td>\n",
       "    </tr>\n",
       "  </tbody>\n",
       "</table>\n",
       "</div>"
      ],
      "text/plain": [
       "          0\n",
       "Agric  1.03\n",
       "Food   1.26\n",
       "Soda   1.32\n",
       "Beer   1.20\n",
       "Smoke  1.32"
      ]
     },
     "execution_count": 7,
     "metadata": {},
     "output_type": "execute_result"
    }
   ],
   "source": [
    "ind_excess = ind_returns.loc[\"1991\":\"1993\"]- fff.loc[\"1991\":\"1993\",[\"RF\"]].values\n",
    "exp_var = fff.loc[\"1991\":\"1993\",[\"Mkt-RF\",\"Constant\"]]\n",
    "betas = [sm.OLS(ind_excess[col], exp_var).fit().params[0].round(2) for col in ind_excess.columns]\n",
    "betas_df = pd.DataFrame(betas, index = ind_excess.columns)\n",
    "betas_df.head()"
   ]
  },
  {
   "cell_type": "code",
   "execution_count": 8,
   "metadata": {},
   "outputs": [
    {
     "data": {
      "text/plain": [
       "0    Hlth\n",
       "dtype: object"
      ]
     },
     "execution_count": 8,
     "metadata": {},
     "output_type": "execute_result"
    }
   ],
   "source": [
    "betas_df.idxmax()"
   ]
  },
  {
   "cell_type": "markdown",
   "metadata": {},
   "source": [
    "**Question 6**\n",
    "\n",
    "Using the same data as the previous question, which of the 49 industries had the lowest CAPM Beta when evaluated over the 1991-1993 (both included) period? (Use the same industry names as in the files) . Enter the answer as text and remember to exactly match the column headers in the data file."
   ]
  },
  {
   "cell_type": "code",
   "execution_count": 9,
   "metadata": {},
   "outputs": [
    {
     "data": {
      "text/plain": [
       "0    Gold\n",
       "dtype: object"
      ]
     },
     "execution_count": 9,
     "metadata": {},
     "output_type": "execute_result"
    }
   ],
   "source": [
    "betas_df.idxmin()"
   ]
  },
  {
   "cell_type": "markdown",
   "metadata": {},
   "source": [
    "**Question 7**\n",
    "\n",
    "For the next 4 questions use the Full 3 Factor Fama-French model using the research data supplied in the following data file:\n",
    "\n",
    "F-F_Research_Data_Factors.csv\n",
    "\n",
    "and the same 1991-2018 period you have just used for the previous questions.\n",
    "\n",
    "Of the 49 industries, which displayed the highest Small Cap tilt when analyzed over the entire 1991-2018 period?\n",
    "\n",
    "Enter your answer as a text string, and remember to use the exact same name as the column header in the text file"
   ]
  },
  {
   "cell_type": "code",
   "execution_count": 10,
   "metadata": {},
   "outputs": [
    {
     "data": {
      "text/html": [
       "<div>\n",
       "<style scoped>\n",
       "    .dataframe tbody tr th:only-of-type {\n",
       "        vertical-align: middle;\n",
       "    }\n",
       "\n",
       "    .dataframe tbody tr th {\n",
       "        vertical-align: top;\n",
       "    }\n",
       "\n",
       "    .dataframe thead th {\n",
       "        text-align: right;\n",
       "    }\n",
       "</style>\n",
       "<table border=\"1\" class=\"dataframe\">\n",
       "  <thead>\n",
       "    <tr style=\"text-align: right;\">\n",
       "      <th></th>\n",
       "      <th>Mkt-RF</th>\n",
       "      <th>SMB</th>\n",
       "      <th>HML</th>\n",
       "      <th>RF</th>\n",
       "      <th>Constant</th>\n",
       "    </tr>\n",
       "  </thead>\n",
       "  <tbody>\n",
       "    <tr>\n",
       "      <th>1991-01</th>\n",
       "      <td>0.0469</td>\n",
       "      <td>0.0379</td>\n",
       "      <td>-0.0184</td>\n",
       "      <td>0.0052</td>\n",
       "      <td>1</td>\n",
       "    </tr>\n",
       "    <tr>\n",
       "      <th>1991-02</th>\n",
       "      <td>0.0719</td>\n",
       "      <td>0.0395</td>\n",
       "      <td>-0.0054</td>\n",
       "      <td>0.0048</td>\n",
       "      <td>1</td>\n",
       "    </tr>\n",
       "    <tr>\n",
       "      <th>1991-03</th>\n",
       "      <td>0.0265</td>\n",
       "      <td>0.0389</td>\n",
       "      <td>-0.0123</td>\n",
       "      <td>0.0044</td>\n",
       "      <td>1</td>\n",
       "    </tr>\n",
       "    <tr>\n",
       "      <th>1991-04</th>\n",
       "      <td>-0.0028</td>\n",
       "      <td>0.0050</td>\n",
       "      <td>0.0142</td>\n",
       "      <td>0.0053</td>\n",
       "      <td>1</td>\n",
       "    </tr>\n",
       "    <tr>\n",
       "      <th>1991-05</th>\n",
       "      <td>0.0365</td>\n",
       "      <td>-0.0034</td>\n",
       "      <td>-0.0057</td>\n",
       "      <td>0.0047</td>\n",
       "      <td>1</td>\n",
       "    </tr>\n",
       "  </tbody>\n",
       "</table>\n",
       "</div>"
      ],
      "text/plain": [
       "         Mkt-RF     SMB     HML      RF  Constant\n",
       "1991-01  0.0469  0.0379 -0.0184  0.0052         1\n",
       "1991-02  0.0719  0.0395 -0.0054  0.0048         1\n",
       "1991-03  0.0265  0.0389 -0.0123  0.0044         1\n",
       "1991-04 -0.0028  0.0050  0.0142  0.0053         1\n",
       "1991-05  0.0365 -0.0034 -0.0057  0.0047         1"
      ]
     },
     "execution_count": 10,
     "metadata": {},
     "output_type": "execute_result"
    }
   ],
   "source": [
    "fff.head()"
   ]
  },
  {
   "cell_type": "markdown",
   "metadata": {},
   "source": [
    "SMB: Small Minus Big - Long small cap stocks and short large cap stocks\n",
    "\n",
    "HML: High Minus Low - Long high value stocks and short growth stocks"
   ]
  },
  {
   "cell_type": "code",
   "execution_count": 11,
   "metadata": {},
   "outputs": [],
   "source": [
    "def regress(dependent_variable, explanatory_variables, alpha=True):\n",
    "    \"\"\"\n",
    "    Runs a linear regression to decompose the dependent variable into the explanatory variables\n",
    "    returns an object of type statsmodel's RegressionResults on which you can call\n",
    "       .summary() to print a full summary\n",
    "       .params for the coefficients\n",
    "       .tvalues and .pvalues for the significance levels\n",
    "       .rsquared_adj and .rsquared for quality of fit\n",
    "    \"\"\"\n",
    "    if alpha:\n",
    "        explanatory_variables = explanatory_variables.copy()\n",
    "        explanatory_variables[\"Alpha\"] = 1\n",
    "\n",
    "    lm = sm.OLS(dependent_variable, explanatory_variables).fit()\n",
    "    return lm\n",
    "\n",
    "ind_excess = ind_returns - fff[[\"RF\"]].values\n",
    "fff = fff.drop(\"RF\", axis=1)"
   ]
  },
  {
   "cell_type": "code",
   "execution_count": 12,
   "metadata": {},
   "outputs": [
    {
     "data": {
      "text/html": [
       "<div>\n",
       "<style scoped>\n",
       "    .dataframe tbody tr th:only-of-type {\n",
       "        vertical-align: middle;\n",
       "    }\n",
       "\n",
       "    .dataframe tbody tr th {\n",
       "        vertical-align: top;\n",
       "    }\n",
       "\n",
       "    .dataframe thead th {\n",
       "        text-align: right;\n",
       "    }\n",
       "</style>\n",
       "<table border=\"1\" class=\"dataframe\">\n",
       "  <thead>\n",
       "    <tr style=\"text-align: right;\">\n",
       "      <th></th>\n",
       "      <th>Mkt-RF</th>\n",
       "      <th>SMB</th>\n",
       "      <th>HML</th>\n",
       "      <th>Constant</th>\n",
       "    </tr>\n",
       "  </thead>\n",
       "  <tbody>\n",
       "    <tr>\n",
       "      <th>Agric</th>\n",
       "      <td>0.684404</td>\n",
       "      <td>0.165856</td>\n",
       "      <td>0.131897</td>\n",
       "      <td>0.002848</td>\n",
       "    </tr>\n",
       "    <tr>\n",
       "      <th>Food</th>\n",
       "      <td>0.558117</td>\n",
       "      <td>-0.267873</td>\n",
       "      <td>0.156536</td>\n",
       "      <td>0.002489</td>\n",
       "    </tr>\n",
       "    <tr>\n",
       "      <th>Soda</th>\n",
       "      <td>0.817167</td>\n",
       "      <td>-0.121587</td>\n",
       "      <td>0.397642</td>\n",
       "      <td>0.003340</td>\n",
       "    </tr>\n",
       "    <tr>\n",
       "      <th>Beer</th>\n",
       "      <td>0.590261</td>\n",
       "      <td>-0.358655</td>\n",
       "      <td>0.006329</td>\n",
       "      <td>0.004493</td>\n",
       "    </tr>\n",
       "    <tr>\n",
       "      <th>Smoke</th>\n",
       "      <td>0.590791</td>\n",
       "      <td>-0.307794</td>\n",
       "      <td>0.266018</td>\n",
       "      <td>0.004717</td>\n",
       "    </tr>\n",
       "  </tbody>\n",
       "</table>\n",
       "</div>"
      ],
      "text/plain": [
       "         Mkt-RF       SMB       HML  Constant\n",
       "Agric  0.684404  0.165856  0.131897  0.002848\n",
       "Food   0.558117 -0.267873  0.156536  0.002489\n",
       "Soda   0.817167 -0.121587  0.397642  0.003340\n",
       "Beer   0.590261 -0.358655  0.006329  0.004493\n",
       "Smoke  0.590791 -0.307794  0.266018  0.004717"
      ]
     },
     "execution_count": 12,
     "metadata": {},
     "output_type": "execute_result"
    }
   ],
   "source": [
    "betas_df = regress(ind_excess, fff, alpha = False).params\n",
    "betas_df.columns = ind_excess.columns\n",
    "betas_df.T.head()"
   ]
  },
  {
   "cell_type": "code",
   "execution_count": 13,
   "metadata": {},
   "outputs": [
    {
     "data": {
      "text/plain": [
       "'FabPr'"
      ]
     },
     "execution_count": 13,
     "metadata": {},
     "output_type": "execute_result"
    }
   ],
   "source": [
    "betas_df.loc[\"SMB\"].idxmax()"
   ]
  },
  {
   "cell_type": "markdown",
   "metadata": {},
   "source": [
    "**Question 8**\n",
    "\n",
    "Using the same dataset and period as the previous question, of the 49 industries, which displayed the highest Large Cap tilt when analyzed over the entire period?"
   ]
  },
  {
   "cell_type": "code",
   "execution_count": 14,
   "metadata": {},
   "outputs": [
    {
     "data": {
      "text/plain": [
       "'Beer'"
      ]
     },
     "execution_count": 14,
     "metadata": {},
     "output_type": "execute_result"
    }
   ],
   "source": [
    "betas_df.loc[\"SMB\"].idxmin()"
   ]
  },
  {
   "cell_type": "markdown",
   "metadata": {},
   "source": [
    "**Question 9**\n",
    "\n",
    "Using the same data as period as the previous question, of the 49 industries, which displayed the highest Value tilt when analyzed over the entire period?"
   ]
  },
  {
   "cell_type": "code",
   "execution_count": 15,
   "metadata": {},
   "outputs": [
    {
     "data": {
      "text/plain": [
       "'Txtls'"
      ]
     },
     "execution_count": 15,
     "metadata": {},
     "output_type": "execute_result"
    }
   ],
   "source": [
    "betas_df.loc[\"HML\"].idxmax()"
   ]
  },
  {
   "cell_type": "markdown",
   "metadata": {},
   "source": [
    "**Question 10**\n",
    "\n",
    "Using the same data set and period as the previous question, of the 49 industries, which displayed the highest Growth tilt when analyzed over the entire period?"
   ]
  },
  {
   "cell_type": "code",
   "execution_count": 16,
   "metadata": {},
   "outputs": [
    {
     "data": {
      "text/plain": [
       "'Softw'"
      ]
     },
     "execution_count": 16,
     "metadata": {},
     "output_type": "execute_result"
    }
   ],
   "source": [
    "betas_df.loc[\"HML\"].idxmin()"
   ]
  }
 ],
 "metadata": {
  "kernelspec": {
   "display_name": "Python 3",
   "language": "python",
   "name": "python3"
  },
  "language_info": {
   "codemirror_mode": {
    "name": "ipython",
    "version": 3
   },
   "file_extension": ".py",
   "mimetype": "text/x-python",
   "name": "python",
   "nbconvert_exporter": "python",
   "pygments_lexer": "ipython3",
   "version": "3.7.6"
  }
 },
 "nbformat": 4,
 "nbformat_minor": 4
}
